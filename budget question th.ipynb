{
 "cells": [
  {
   "cell_type": "code",
   "execution_count": 2,
   "metadata": {},
   "outputs": [
    {
     "name": "stdout",
     "output_type": "stream",
     "text": [
      "What s your budget for the previous month?30000\n",
      "Enter your expense with thier purpose/titlefood 5000\n",
      "Any other expense?y\n",
      "Enter your expense with thier purpose/titleclothes 5000\n",
      "Any other expense?N\n",
      "Good job! You saved Rs. 20000 from your previous month. Here are your details\n",
      "Total Budget => 30000\n",
      "food 5000\n",
      "clothes 5000\n",
      "Remaining Budeget: 20000 \n",
      "Thank you\n"
     ]
    }
   ],
   "source": [
    "def Budgeting():\n",
    "    budget=int(input(\"What s your budget for the previous month?\"))\n",
    "    expense=[]\n",
    "    our_exp=[]\n",
    "\n",
    "    while True:\n",
    "        exp=input(\"Enter your expense with thier purpose/title\")\n",
    "        our_exp.append(exp)\n",
    "        next_input=input(\"Any other expense?\")\n",
    "        for i in exp:\n",
    "            if i==\" \":\n",
    "                num=exp.index(i)\n",
    "                a=exp[num:]\n",
    "                b=int(a)\n",
    "                expense.append(b)\n",
    "    \n",
    "        if next_input==\"N\" or next_input== \"n\":\n",
    "            break\n",
    "        else:\n",
    "            continue\n",
    "    Total_exp=sum(expense)\n",
    "    remain=budget-Total_exp\n",
    "    print(\"Good job! You saved Rs.\",remain,\"from your previous month. Here are your details\")\n",
    "    print(\"Total Budget =>\",budget)\n",
    "    for i in our_exp:\n",
    "        print(i)\n",
    "    print(\"Remaining Budeget:\",remain,\"\\n\"+\"Thank you\")\n",
    "Budgeting()\n"
   ]
  },
  {
   "cell_type": "code",
   "execution_count": null,
   "metadata": {},
   "outputs": [],
   "source": []
  }
 ],
 "metadata": {
  "kernelspec": {
   "display_name": "Python 3",
   "language": "python",
   "name": "python3"
  },
  "language_info": {
   "codemirror_mode": {
    "name": "ipython",
    "version": 3
   },
   "file_extension": ".py",
   "mimetype": "text/x-python",
   "name": "python",
   "nbconvert_exporter": "python",
   "pygments_lexer": "ipython3",
   "version": "3.8.5"
  }
 },
 "nbformat": 4,
 "nbformat_minor": 4
}
